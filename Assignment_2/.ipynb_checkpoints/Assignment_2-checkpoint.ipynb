{
 "cells": [
  {
   "cell_type": "markdown",
   "metadata": {},
   "source": [
    "# Assignment 2\n",
    "\n",
    "## Objective of this assignment\n",
    "The objective of this assignment is to get an understanding of the many ways data can be visualized. Upon completing this exercise you should be familiar with histograms, boxplots and scatter plots.\n",
    "\n",
    "\n",
    "## ** Important: ** When handing in your homework:\n",
    "+ Hand in the notebook (and nothing else) named as follows: StudentName1_snumber_StudentName2_snumber.ipynb\n",
    "+ Provide clear and complete answers to the questions below under a separate header (not hidden somewhere in your source code), and make sure to explain your answers / motivate your choices. Add Markdown cells where necessary.\n",
    "+ Source code, output graphs, derivations, etc., should be included in the notebook.\n",
    "+ Hand-in: upload to Blackboard.\n",
    "+ Include name, student number, assignment (especially in filenames)!\n",
    "+ When working in pairs only one of you should upload the assignment, and report the name of your partner in your filename.\n",
    "+ For problems or questions: use the BB discussion board or email the student assistants.\n",
    "\n",
    "\n",
    "## Advised Reading and Exercise Material\n",
    "**The following reading material is recommended:**\n",
    "\n",
    "- Pang-Ning Tan, Michael Steinbach, and Vipin Kumar, *Introduction to Data Mining*, section 3.3\n",
    "- Jonathon Shlens, *A tutorial on Principal Component Analysis* , https://arxiv.org/abs/1404.1100\n",
    "\n",
    "\n",
    "## 2.1 Visualizing wine data (4.5 points)\n",
    "\n",
    "In this part of the exercise we will consider two data sets related to red and white variants of the Portuguese \"Vinho Verde\" wine[1]. The data has been downloaded from http://archive.ics.uci.edu/ml/datasets/Wine+Quality. Only physicochemical and sensory attributes are available, i.e., there is no data about grape types, wine brand, wine selling price, etc. The data has the following attributes:\n",
    "\n",
    "| #   |  Attribute      | Unit |\n",
    "| --- |:--------------- |:---- |\n",
    "| 1   | Fixed acidity (tartaric) | g/dm3 |\n",
    "| 2   | Volatile acidity (acetic) | g/dm3 |\n",
    "| 3   | Citric acid | g/dm3 |\n",
    "| 4   | Residual sugar | g/dm3 |\n",
    "| 5   | Chlorides | g/dm3 |\n",
    "| 6   | Free sulfur dioxide | mg/dm3 |\n",
    "| 7   | Total sulfur dioxide | mg/dm3 |\n",
    "| 8   | Density | g/cm3 |\n",
    "| 9   | pH | pH |\n",
    "| 10  | Sulphates | g/dm3 |\n",
    "| 11  | Alcohol | % vol. |\n",
    "| 12  | Quality score | 0-10 |\n",
    "\n",
    "Attributes 1-11 are based on physicochemical tests and attribute 12 on human judging. The data set has many observations that can be considered outliers and in order to carry out analyses it is important to remove the corrupt observations.\n",
    "\n",
    "The aim of this exercise is to use visualization to identify outliers and remove these outliers from the data. It might be necessary to remove some outliers before other outlying observations become visible. Thus, the process of finding and removing outliers is often iterative. The wine data is stored in a MATLAB file, Data/wine.mat\n",
    "\n",
    "*This exercise is based upon material kindly provided by the Cognitive System Section, DTU Compute,\n",
    "http://cogsys.compute.dtu.dk. Any sale or commercial distribution is strictly forbidden.*\n",
    "\n",
    "> 2.1.1 Load the data into Python using the scipy.io.loadmat() function. This data set contains many observations that can be considered outliers. Plot a box plot and a histogram for each attribute to visualize the outliers in the data set. From prior knowledge we expect volatile acidity to be around 0-2 g/dm3, density to be close to 1 g/cm3, and alcohol percentage to be somewhere between 5-20% vol. We can safely identify the outliers for these attributes, searching for the values, which are a factor of 10 greater than the largest we expect. Identify outliers for volatile acidity, density and alcohol percentage, and remove them from the data set. Plot new box plot and histogram for these attributes and compare them with initial ones.\n",
    " + *You can use the scipy.stats.zscore() to standardize your data before you plot a boxplot.*\n",
    " + *You can use the function matplotlib.pyplot.subplot() to plot several plots in one figure.*\n"
   ]
  },
  {
   "cell_type": "code",
   "execution_count": null,
   "metadata": {},
   "outputs": [],
   "source": [
    "##Answer to question 2.1.1"
   ]
  },
  {
   "cell_type": "markdown",
   "metadata": {
    "collapsed": true
   },
   "source": [
    "*Double click to type your elaboration for question 2.1.1 here*"
   ]
  },
  {
   "cell_type": "markdown",
   "metadata": {},
   "source": [
    "> 2.1.2 Make scatter plots between attributes and wine quality as rated by human judges. Can you manually identify any clear relationship between the attributes of the wine and wine quality? Which values of these attributes are associated with high quality wine?\n",
    "+ *You can calculate the correlation coefficient using the scipy.stats.pearsonr() function to measure the strength of association.*"
   ]
  },
  {
   "cell_type": "code",
   "execution_count": 4,
   "metadata": {
    "collapsed": true
   },
   "outputs": [],
   "source": [
    "##Answer to question 2.1.2"
   ]
  },
  {
   "cell_type": "markdown",
   "metadata": {
    "collapsed": true
   },
   "source": [
    "*Double click to type your elaboration for question 2.1.2 here*"
   ]
  },
  {
   "cell_type": "markdown",
   "metadata": {
    "collapsed": true
   },
   "source": [
    "## 2.2 Visualizing the handwritten digits (4 points)\n",
    "\n",
    "In this part of the exercise we will analyse the famous *mnist* handwritten digit dataset from: http://yann.lecun.com/exdb/mnist/.\n",
    "\n",
    "> 2.2.1 Load zipdata.mat by using the loadmat function. There are two data sets containing handwritten digits: *testdata* and *traindata*. Here, we will only use *traindata*. The first column in the matrix *traindata* contains the digit (class) and the last 256 columns contain the pixel values.\n",
    "Create the data matrix *X* and the class index vector *y* from the data. Remove\n",
    "the digits with the class index 2-9 from the data, so only digits belonging to\n",
    "the class 0 and 1 are analyzed. Visualize the first 10 digits as images. \n",
    "Next, compute the principal components (PCA) of the data matrix. Now,\n",
    "using the PCA, create a new data matrix *Xpca*. The new data matrix should have 4 attributes corresponding to PC1-PC4. Reconstruct the initial data using PC1-PC4. Visualize the first 10 digits as images for the reconstructed data and compare them with images for the original data.\n",
    "Make a matrix of scatter plots of each combination of two principal components\n",
    "for PC1-PC4 against each other. Make a 3-dimensional scatter plot of three\n",
    "principal components PC1-PC3. Plot elements belonging to different classes in\n",
    "different colors. Add a legend to clarify which digit is shown in which color.\n",
    "+ *The below example code can help you visualize digits as images.*\n",
    "+ *See Assignment 1 if you can not recall how to compute a PCA.*\n",
    "+ *Keep in mind that numpy.linalg.svd() returns the transposed **V<sup>T</sup>** matrix as output.*\n",
    "+ *You can use * **Z** = **Y**\\***V**[:,:4] to project the data onto the first four PCs.*\n",
    "+ *To reconstruct the data from projection you can use the following formula: **W** = **Z**&ast;**V**[:,:4]<sup>T</sup> + **μ**. *\n"
   ]
  },
  {
   "cell_type": "code",
   "execution_count": 3,
   "metadata": {},
   "outputs": [
    {
     "data": {
      "image/png": "[encoded data removed]",
      "text/plain": [
       "<matplotlib.figure.Figure at 0x553d400>"
      ]
     },
     "metadata": {},
     "output_type": "display_data"
    }
   ],
   "source": [
    "## Example code:\n",
    "#------------------------------------------------\n",
    "import matplotlib.pyplot as plt\n",
    "import matplotlib.cm as cm\n",
    "from scipy.io import loadmat\n",
    "from numpy import reshape\n",
    "\n",
    "# Index of the digit to display\n",
    "i = 0\n",
    "\n",
    "# Load Matlab data file to python dict structure\n",
    "mat_data = loadmat('./Data/zipdata.mat')\n",
    "\n",
    "# Extract variables of interest\n",
    "testdata = mat_data['testdata']\n",
    "traindata = mat_data['traindata']\n",
    "X = traindata[:,1:]\n",
    "y = traindata[:,0]\n",
    "\n",
    "# Visualize the i'th digit as an image\n",
    "plt.subplot(1,1,1);\n",
    "I = reshape(X[i,:],(16,16))\n",
    "plt.imshow(I, extent=(0,16,0,16), cmap=cm.gray_r);\n",
    "plt.title('Digit as an image');\n",
    "plt.show()\n",
    "#------------------------------------------------"
   ]
  },
  {
   "cell_type": "markdown",
   "metadata": {},
   "source": [
    "*Double click to type your elaboration for question 2.2.1 here*"
   ]
  },
  {
   "cell_type": "code",
   "execution_count": null,
   "metadata": {},
   "outputs": [],
   "source": [
    "##Answer to question 2.2.1\n"
   ]
  },
  {
   "cell_type": "markdown",
   "metadata": {},
   "source": [
    "*Double click to type your elaboration for question 2.2.1 here*"
   ]
  },
  {
   "cell_type": "markdown",
   "metadata": {},
   "source": [
    "## 2.3 Probability and Statistics (1.5 points)\n",
    "The aim of this exercise is to learn how to calculate basic statistics in python.\n",
    "> 2.3.1 A study of a very limited population of Aliens reveals the following number of body appendages (limbs):\n",
    "<center>2,3,6,8,11,18</center>\n",
    "i. Find the mean $m$ and the standard deviation $\\sigma$ of this population.\n",
    "+ *You can use the methods numpy.ndarray.mean() and numpy.ndarray.std() to calculate the mean and standard deviation.*"
   ]
  },
  {
   "cell_type": "code",
   "execution_count": 5,
   "metadata": {
    "collapsed": true
   },
   "outputs": [],
   "source": [
    "##Answer to question 2.3.1"
   ]
  },
  {
   "cell_type": "markdown",
   "metadata": {},
   "source": [
    "> ii. List all possible samples of two aliens without replacement, and find each mean. Do the same with samples of four aliens.\n",
    "+ *You can use the method itertools.combinations(v,n) to find all possible samples of a vector v taking n elements at a time.*"
   ]
  },
  {
   "cell_type": "code",
   "execution_count": null,
   "metadata": {
    "collapsed": true
   },
   "outputs": [],
   "source": [
    "##Answer to question 2.3.2"
   ]
  },
  {
   "cell_type": "markdown",
   "metadata": {},
   "source": [
    "> iii. Each of the means above is called a sample mean. Find the mean of all the sample means (denoted by $m_x$) and the standard\n",
    "deviation of all the sample means (denoted by $\\sigma_x$) for both\n",
    "the *N=2* and *N=4* samples."
   ]
  },
  {
   "cell_type": "code",
   "execution_count": null,
   "metadata": {
    "collapsed": true
   },
   "outputs": [],
   "source": [
    "##Answer to question 2.3.3"
   ]
  },
  {
   "cell_type": "markdown",
   "metadata": {},
   "source": [
    "> iv. Verify the Central Limit Theorem: (i) compare the population\n",
    "mean with the mean of both sample means; (ii) compare the population\n",
    "standard deviations divided by the square root of the sample size\n",
    "with the standard deviation of both sample means (i.e., does\n",
    "$\\sigma_x \\approx \\sigma/\\sqrt{N}$). BTW, a better approximation for\n",
    "small population sizes is $\\sigma_x = \\sigma / \\sqrt{N} \\times\n",
    "\\sqrt{(M-N)/(M-1)}$ with *M = 6* the size of the original"
   ]
  },
  {
   "cell_type": "markdown",
   "metadata": {},
   "source": [
    "*Double click to type your answer for question 2.3.4 here*"
   ]
  },
  {
   "cell_type": "markdown",
   "metadata": {},
   "source": [
    "> v. Plot the distribution of the population and the distributions of both sample means using histograms. What happens to the shape of the sample means distribution as the sample size (N*) increases?"
   ]
  },
  {
   "cell_type": "code",
   "execution_count": null,
   "metadata": {
    "collapsed": true
   },
   "outputs": [],
   "source": [
    "##Answer to question 2.3.5"
   ]
  }
 ],
 "metadata": {
  "kernelspec": {
   "display_name": "Python 2",
   "language": "python",
   "name": "python2"
  },
  "language_info": {
   "codemirror_mode": {
    "name": "ipython",
    "version": 2
   },
   "file_extension": ".py",
   "mimetype": "text/x-python",
   "name": "python",
   "nbconvert_exporter": "python",
   "pygments_lexer": "ipython2",
   "version": "2.7.13"
  }
 },
 "nbformat": 4,
 "nbformat_minor": 2
}
